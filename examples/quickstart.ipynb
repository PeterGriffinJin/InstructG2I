{
 "cells": [
  {
   "cell_type": "code",
   "execution_count": 6,
   "metadata": {},
   "outputs": [],
   "source": [
    "import os\n",
    "from PIL import Image\n",
    "from instructg2i import InstructG2IPipeline, get_neighbor_transforms"
   ]
  },
  {
   "cell_type": "code",
   "execution_count": null,
   "metadata": {},
   "outputs": [],
   "source": [
    "resolution = 256\n",
    "text_prompt = 'a mountain in the blue sky'  # a man playing soccer, a man playing piano\n",
    "model_dir = \"PeterJinGo/VirtualArtist\"\n",
    "neighbor_pic_dir = '/shared/data/bowenj4/opensource/InstructG2I/examples/monet_pictures'\n",
    "\n",
    "neighbor_transforms = get_neighbor_transforms(resolution)\n",
    "pipeline = InstructG2IPipeline.from_pretrained(model_dir, neighbor_num=5, device='cuda:0')"
   ]
  },
  {
   "cell_type": "code",
   "execution_count": null,
   "metadata": {},
   "outputs": [],
   "source": [
    "neighbor_image = [neighbor_transforms(Image.open(f'{neighbor_pic_dir}/{n_file}').convert(\"RGB\")) for n_file in os.listdir(neighbor_pic_dir)]\n",
    "image_gen = pipeline(prompt=text_prompt, neighbor_image=neighbor_image, neighbor_mask=[1] * len(neighbor_image), num_inference_steps=100).images[0]\n",
    "image_gen.show()"
   ]
  },
  {
   "cell_type": "code",
   "execution_count": 9,
   "metadata": {},
   "outputs": [],
   "source": [
    "image_gen.save('example.jpg')"
   ]
  }
 ],
 "metadata": {
  "kernelspec": {
   "display_name": "test",
   "language": "python",
   "name": "python3"
  },
  "language_info": {
   "codemirror_mode": {
    "name": "ipython",
    "version": 3
   },
   "file_extension": ".py",
   "mimetype": "text/x-python",
   "name": "python",
   "nbconvert_exporter": "python",
   "pygments_lexer": "ipython3",
   "version": "3.10.0"
  }
 },
 "nbformat": 4,
 "nbformat_minor": 2
}
