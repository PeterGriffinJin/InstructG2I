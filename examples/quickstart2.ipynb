{
 "cells": [
  {
   "cell_type": "code",
   "execution_count": null,
   "metadata": {},
   "outputs": [],
   "source": [
    "import os\n",
    "from PIL import Image\n",
    "from instructg2i import image_grid, InstructG2IMultiGuidePipeline, get_neighbor_transforms\n"
   ]
  },
  {
   "cell_type": "markdown",
   "metadata": {},
   "source": [
    "### Mix Style (CFG based)"
   ]
  },
  {
   "cell_type": "code",
   "execution_count": 2,
   "metadata": {},
   "outputs": [],
   "source": [
    "device = 'cuda:6'\n",
    "model_dir = \"PeterJinGo/VirtualArtist\""
   ]
  },
  {
   "cell_type": "code",
   "execution_count": null,
   "metadata": {},
   "outputs": [],
   "source": [
    "resolution=256\n",
    "neighbor_num = 5\n",
    "pipeline = InstructG2IMultiGuidePipeline.from_pretrained(model_dir, neighbor_num, device=device)"
   ]
  },
  {
   "cell_type": "code",
   "execution_count": 4,
   "metadata": {},
   "outputs": [],
   "source": [
    "path1 = \"/shared/data/bowenj4/opensource/InstructG2I/examples/monet_pictures\"\n",
    "path2 = \"/shared/data/bowenj4/opensource/InstructG2I/examples/children_pictures\""
   ]
  },
  {
   "cell_type": "code",
   "execution_count": null,
   "metadata": {},
   "outputs": [],
   "source": [
    "# multi image generation\n",
    "text_prompt = 'a house in the snow'  # a man playing soccer, a man playing piano\n",
    "scale_as = [0, 3, 10]\n",
    "scale_bs = [0, 5, 15]\n",
    "\n",
    "# graph2image pipeline\n",
    "neighbor_transforms = get_neighbor_transforms(resolution)\n",
    "neighbor_images = [[neighbor_transforms(Image.open(os.path.join(path1, n_file)).convert(\"RGB\")) for n_file in os.listdir(path1)],\n",
    "                   [neighbor_transforms(Image.open(os.path.join(path2, n_file)).convert(\"RGB\")) for n_file in os.listdir(path2)]]\n",
    "neighbor_masks = [[1,1,1,1,1],\n",
    "                   [1,1,1,1,1]]\n",
    "\n",
    "image_gens = []\n",
    "for scale_a in scale_as:\n",
    "    for scale_b in scale_bs:\n",
    "        graph_guidance_scales = [scale_a, scale_b]\n",
    "\n",
    "        image_gen = pipeline(prompt=text_prompt, \n",
    "                                        neighbor_images=neighbor_images, \n",
    "                                        neighbor_masks=neighbor_masks, \n",
    "                                        graph_guidance_scales=graph_guidance_scales,\n",
    "                                        num_inference_steps=100).images[0]\n",
    "        image_gens.append(image_gen)\n",
    "\n",
    "print(f'Generated Image Monet, {scale_as} & {scale_bs}, {text_prompt}')\n",
    "res_grid = image_grid(image_gens, len(scale_as), len(scale_bs))\n",
    "res_grid.show()"
   ]
  }
 ],
 "metadata": {
  "kernelspec": {
   "display_name": "diffuser-latest",
   "language": "python",
   "name": "python3"
  },
  "language_info": {
   "codemirror_mode": {
    "name": "ipython",
    "version": 3
   },
   "file_extension": ".py",
   "mimetype": "text/x-python",
   "name": "python",
   "nbconvert_exporter": "python",
   "pygments_lexer": "ipython3",
   "version": "3.10.0"
  }
 },
 "nbformat": 4,
 "nbformat_minor": 2
}
