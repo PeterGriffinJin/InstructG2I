{
 "cells": [
  {
   "cell_type": "code",
   "execution_count": null,
   "metadata": {},
   "outputs": [],
   "source": [
    "import re\n",
    "import os\n",
    "import random\n",
    "from tqdm import tqdm\n",
    "from PIL import Image\n",
    "from collections import defaultdict\n",
    "from instructg2i import image_grid, InstructG2IMultiGuidePipeline, get_neighbor_transforms\n",
    "import numpy as np\n",
    "import pickle"
   ]
  },
  {
   "cell_type": "code",
   "execution_count": 2,
   "metadata": {},
   "outputs": [],
   "source": [
    "random.seed(42)"
   ]
  },
  {
   "cell_type": "markdown",
   "metadata": {},
   "source": [
    "### Read the Artist Database"
   ]
  },
  {
   "cell_type": "code",
   "execution_count": 3,
   "metadata": {},
   "outputs": [],
   "source": [
    "device='cuda:0'\n",
    "csv_path = 'data/Art/label_list.csv'\n",
    "img_dir = 'data/Art/train'"
   ]
  },
  {
   "cell_type": "code",
   "execution_count": 4,
   "metadata": {},
   "outputs": [],
   "source": [
    "AUTHOR = 0\n",
    "PAINTING_NAME = 1\n",
    "PAINTING_PATH = -1"
   ]
  },
  {
   "cell_type": "code",
   "execution_count": 5,
   "metadata": {},
   "outputs": [],
   "source": [
    "def path_to_name(path):\n",
    "    try:\n",
    "        return re.findall(\"[^/]+$\", path)[-1]\n",
    "    except:\n",
    "        return False"
   ]
  },
  {
   "cell_type": "code",
   "execution_count": 6,
   "metadata": {},
   "outputs": [],
   "source": [
    "with open('data/Art/valid_img.pkl','rb') as f:\n",
    "   valid_img = pickle.load(f)"
   ]
  },
  {
   "cell_type": "code",
   "execution_count": null,
   "metadata": {},
   "outputs": [],
   "source": [
    "author2img = defaultdict(set)\n",
    "pics = {}\n",
    "seen_titles = set()\n",
    "\n",
    "with open(csv_path) as f:\n",
    "    readin = f.readlines()\n",
    "    random.shuffle(readin)\n",
    "    for line in tqdm(readin):\n",
    "        tmp = line.strip().split('|')\n",
    "        \n",
    "        file_name = path_to_name(tmp[PAINTING_PATH])\n",
    "        if file_name not in valid_img or tmp[AUTHOR] == '' or tmp[AUTHOR] == 'NoAuthor':\n",
    "            continue\n",
    "                \n",
    "        if '##' in tmp[PAINTING_NAME]:\n",
    "            title = tmp[PAINTING_NAME].split('##')[0]\n",
    "        else:\n",
    "            title = tmp[PAINTING_NAME]\n",
    "        \n",
    "        if title not in seen_titles:\n",
    "            seen_titles.add(title)\n",
    "            author2img[tmp[AUTHOR]].add(title)\n",
    "            pics[title] = {'title': title, 'author': tmp[AUTHOR], 'file_name': file_name}\n",
    "\n",
    "print(f'Number of pictures: {len(pics)}')\n",
    "print(f'Number of artists {len(author2img)}')"
   ]
  },
  {
   "cell_type": "markdown",
   "metadata": {},
   "source": [
    "## Generation"
   ]
  },
  {
   "cell_type": "code",
   "execution_count": 8,
   "metadata": {},
   "outputs": [],
   "source": [
    "model_dir = \"PeterJinGo/VirtualArtist\""
   ]
  },
  {
   "cell_type": "code",
   "execution_count": null,
   "metadata": {},
   "outputs": [],
   "source": [
    "resolution=256\n",
    "neighbor_num = 5\n",
    "pipeline = InstructG2IMultiGuidePipeline.from_pretrained(model_dir, neighbor_num, device=device)"
   ]
  },
  {
   "cell_type": "code",
   "execution_count": null,
   "metadata": {},
   "outputs": [],
   "source": [
    "## You can use this cell to search if your interested artist exist in the database or not\n",
    "## If it exist, this cell will print out the names exist in the database and please use the printed name as author_name for the cell below\n",
    "search_name = 'Pablo Picasso'  # Vincent van Gogh, Pablo Picasso\n",
    "\n",
    "for author_name in author2img:\n",
    "    if author_name[:len(search_name)] == search_name:\n",
    "        print(author_name)"
   ]
  },
  {
   "cell_type": "code",
   "execution_count": 11,
   "metadata": {},
   "outputs": [],
   "source": [
    "## You can change the text and the artist (printed by the above cell) below\n",
    "\n",
    "text_prompt = 'a man playing piano'  # a man playing soccer, a man playing piano\n",
    "author_names = ['Pablo Picasso', 'Gustave Courbet']  # Vincent van Gogh, Pablo Picasso, Caravaggio, Gustave Courbet, Salvador Dali, Max Beckmann\n",
    "neighbor_num = 5\n",
    "scale_as = [0, 7.5, 15]\n",
    "scale_bs = [0, 7.5, 15]"
   ]
  },
  {
   "cell_type": "code",
   "execution_count": null,
   "metadata": {},
   "outputs": [],
   "source": [
    "# multi image generation\n",
    "all_neighbors = []\n",
    "for author_name in author_names:\n",
    "    tmp_neighbors = list(author2img[author_name])\n",
    "    random.shuffle(tmp_neighbors)\n",
    "    assert len(tmp_neighbors) > 0\n",
    "    all_neighbors.append(tmp_neighbors[:neighbor_num])\n",
    "\n",
    "assert len(all_neighbors) == len(author_names)\n",
    "\n",
    "# graph2image pipeline\n",
    "neighbor_transforms = get_neighbor_transforms(resolution)\n",
    "\n",
    "neighbor_images = []\n",
    "neighbor_masks = []\n",
    "for neighbors in all_neighbors:\n",
    "    image = Image.open(os.path.join(img_dir, pics[neighbors[0]]['file_name'])).convert(\"RGB\")\n",
    "    neighbor_image = [neighbor_transforms(Image.open(os.path.join(img_dir, pics[n_file]['file_name'])).convert(\"RGB\")) for n_file in neighbors]\n",
    "    neighbor_mask = [1] * len(neighbor_image)\n",
    "    neighbor_image += [neighbor_transforms(Image.fromarray(np.uint8(np.zeros_like(np.array(image)))).convert('RGB'))] * (neighbor_num - len(neighbor_image))\n",
    "    neighbor_mask += [0] * (neighbor_num - len(neighbor_mask))\n",
    "    neighbor_images.append(neighbor_image)\n",
    "    neighbor_masks.append(neighbor_mask)\n",
    "\n",
    "image_gens = []\n",
    "for scale_a in scale_as:\n",
    "    for scale_b in scale_bs:\n",
    "        graph_guidance_scales = [scale_a, scale_b]\n",
    "\n",
    "        image_gen = pipeline(prompt=text_prompt, \n",
    "                                        neighbor_images=neighbor_images, \n",
    "                                        neighbor_masks=neighbor_masks, \n",
    "                                        graph_guidance_scales=graph_guidance_scales,\n",
    "                                        num_inference_steps=100).images[0]\n",
    "        image_gens.append(image_gen)\n",
    "\n",
    "print(f'Generated Image {author_names}, {scale_as} & {scale_bs}, {text_prompt}')\n",
    "res_grid = image_grid(image_gens, len(scale_as), len(scale_bs))\n",
    "res_grid.show()\n",
    "\n",
    "# show the samples neighbors\n",
    "# for author_name, neighbors in zip(author_names, all_neighbors):\n",
    "#     neighbor_grid = image_grid([Image.open(os.path.join(img_dir, pics[img_file]['file_name'])) for img_file in neighbors], 1, neighbor_num)\n",
    "#     print(f'Neighbors {author_name}:')\n",
    "#     neighbor_grid.show()"
   ]
  },
  {
   "cell_type": "code",
   "execution_count": null,
   "metadata": {},
   "outputs": [],
   "source": []
  }
 ],
 "metadata": {
  "kernelspec": {
   "display_name": "diffuser-latest",
   "language": "python",
   "name": "python3"
  },
  "language_info": {
   "codemirror_mode": {
    "name": "ipython",
    "version": 3
   },
   "file_extension": ".py",
   "mimetype": "text/x-python",
   "name": "python",
   "nbconvert_exporter": "python",
   "pygments_lexer": "ipython3",
   "version": "3.10.0"
  }
 },
 "nbformat": 4,
 "nbformat_minor": 2
}
