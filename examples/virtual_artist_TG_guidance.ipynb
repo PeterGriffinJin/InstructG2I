{
 "cells": [
  {
   "cell_type": "code",
   "execution_count": null,
   "metadata": {},
   "outputs": [],
   "source": [
    "import os\n",
    "import json\n",
    "from tqdm import tqdm\n",
    "from PIL import Image\n",
    "from instructg2i import image_grid, InstructG2IGuidePipeline, get_neighbor_transforms\n",
    "import numpy as np"
   ]
  },
  {
   "cell_type": "code",
   "execution_count": 2,
   "metadata": {},
   "outputs": [],
   "source": [
    "device='cuda:0'"
   ]
  },
  {
   "cell_type": "code",
   "execution_count": null,
   "metadata": {},
   "outputs": [],
   "source": [
    "# read metadata\n",
    "\n",
    "meta = []\n",
    "with open('data/Art/test/metadata.jsonl') as f:\n",
    "    readin = f.readlines()\n",
    "    for line in tqdm(readin):\n",
    "        meta.append(json.loads(line))\n",
    "\n",
    "img_dir = f'/data/Art/test'"
   ]
  },
  {
   "cell_type": "code",
   "execution_count": null,
   "metadata": {},
   "outputs": [],
   "source": []
  },
  {
   "cell_type": "markdown",
   "metadata": {},
   "source": [
    "### Generation"
   ]
  },
  {
   "cell_type": "code",
   "execution_count": 4,
   "metadata": {},
   "outputs": [],
   "source": [
    "model_dir = \"PeterJinGo/VirtualArtist\""
   ]
  },
  {
   "cell_type": "code",
   "execution_count": null,
   "metadata": {},
   "outputs": [],
   "source": [
    "resolution=256\n",
    "neighbor_num = 5\n",
    "pipeline = InstructG2IGuidePipeline.from_pretrained(model_dir, neighbor_num, device=device)"
   ]
  },
  {
   "cell_type": "code",
   "execution_count": null,
   "metadata": {},
   "outputs": [],
   "source": [
    "# from utils import image_grid\n",
    "rand_meta = {'center': 'Huis In Boomrijke Omgeving##TwEBS4xd_HohOw.jpg', 'text': 'Huis In Boomrijke Omgeving', 'neighbors': ['Landschap Met Bomen Aan Het Water##MAE0t4GUCt8feA.jpg', 'Bosweg Met Twee Huizen##ogG_bhcOYCmVbQ.jpg']}\n",
    "print(rand_meta)\n",
    "gt_img = Image.open(os.path.join(img_dir, rand_meta['center']))\n",
    "\n",
    "# graph2image pipeline\n",
    "neighbor_transforms = get_neighbor_transforms(resolution)\n",
    "\n",
    "image = Image.open(os.path.join(img_dir, rand_meta['center'])).convert(\"RGB\")\n",
    "neighbor_image = [neighbor_transforms(Image.open(os.path.join(img_dir, n_file)).convert(\"RGB\")) for n_file in rand_meta['neighbors'][:neighbor_num]]\n",
    "neighbor_mask = [1] * len(neighbor_image)\n",
    "neighbor_image += [neighbor_transforms(Image.fromarray(np.uint8(np.zeros_like(np.array(image)))).convert('RGB'))] * (neighbor_num - len(neighbor_image))\n",
    "neighbor_mask += [0] * (neighbor_num - len(neighbor_mask))\n",
    "\n",
    "gen_imgs = []\n",
    "guidance_scales = [0, 2, 10] # [5, 7.5, 10]\n",
    "graph_guidance_scales = [0, 2, 10] # [5, 7.5, 10]\n",
    "for guidance_scale in guidance_scales:\n",
    "    for graph_guidance_scale in graph_guidance_scales:\n",
    "        gen_img = pipeline(prompt=rand_meta['text'], \n",
    "                                    neighbor_image=neighbor_image, \n",
    "                                    neighbor_mask=neighbor_mask, \n",
    "                                    num_inference_steps=100,\n",
    "                                    guidance_scale=guidance_scale,\n",
    "                                   graph_guidance_scale=graph_guidance_scale).images[0]\n",
    "        gen_imgs.append(gen_img)\n",
    "\n",
    "res_grid = image_grid(gen_imgs, len(guidance_scales), len(graph_guidance_scales))\n",
    "neighbor_grid = image_grid([Image.open(os.path.join(img_dir, img_file)) for img_file in rand_meta['neighbors'][:6]], 1, len(rand_meta['neighbors'][:6]))\n",
    "\n",
    "print('********   Ground Truth   ********')\n",
    "gt_img.show()\n",
    "print('********   Generated results (row: text_guidance_scales; col: graph_guidance_scales)   ********')\n",
    "res_grid.show()\n",
    "# print('********   Neighbors   ********')\n",
    "# neighbor_grid.show()\n",
    "\n",
    "# columns have different graph rate\n",
    "# rows have different text rate"
   ]
  },
  {
   "cell_type": "code",
   "execution_count": null,
   "metadata": {},
   "outputs": [],
   "source": []
  }
 ],
 "metadata": {
  "kernelspec": {
   "display_name": "diffuser",
   "language": "python",
   "name": "python3"
  },
  "language_info": {
   "codemirror_mode": {
    "name": "ipython",
    "version": 3
   },
   "file_extension": ".py",
   "mimetype": "text/x-python",
   "name": "python",
   "nbconvert_exporter": "python",
   "pygments_lexer": "ipython3",
   "version": "3.10.0"
  }
 },
 "nbformat": 4,
 "nbformat_minor": 2
}
